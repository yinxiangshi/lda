{
 "cells": [
  {
   "cell_type": "markdown",
   "id": "38a0bd1b",
   "metadata": {},
   "source": [
    "# Quick start\n",
    "\n",
    "This is a simple implementation of the LDA model, using gibbs sampling.\n",
    "\n",
    "For an overview of LDA, visit :\n",
    "\n",
    "[LDA]: https://www.jmlr.org/papers/volume3/blei03a/blei03a.pdf\n",
    "\n",
    "We can easily apply this model by change some parameters."
   ]
  },
  {
   "cell_type": "markdown",
   "id": "0664432d",
   "metadata": {},
   "source": [
    "You can put your data set in the data.txt file in the home directory.\n",
    "\n",
    "The number of iterations iternum is in the initialize.py file, you can change the iteration times by changing iternum.(default is 500)"
   ]
  },
  {
   "cell_type": "code",
   "execution_count": 2,
   "id": "e7f30328",
   "metadata": {},
   "outputs": [],
   "source": [
    "iternum = 500"
   ]
  },
  {
   "cell_type": "markdown",
   "id": "18d5ae18",
   "metadata": {},
   "source": [
    "You can change the number of the topics before training by changing the parameter K(also in the initialize.py) Default is 3."
   ]
  },
  {
   "cell_type": "code",
   "execution_count": 3,
   "id": "30f56f2e",
   "metadata": {},
   "outputs": [],
   "source": [
    "K = 3"
   ]
  },
  {
   "cell_type": "markdown",
   "id": "91ea16ec",
   "metadata": {},
   "source": [
    "After all parameters set down, run **lda.py**, the results will printed in console .\n",
    "\n",
    "The structure of this implementation is:\n",
    "\n",
    "| Filename          | Action                                                       |\n",
    "| ----------------- | ------------------------------------------------------------ |\n",
    "| initialize.py     | Initialization parameters and model                          |\n",
    "| process.py        | Processing data set input                                    |\n",
    "| gibbs_sampling.py | gibbs sampling and calculation of perplexity                 |\n",
    "| data.txt          | Store the data set                                           |\n",
    "| stopwords.dic     | Store the keywords of data set process                       |\n",
    "| lda.py            | Main file of this model,Mainly used to call other functions and print results |"
   ]
  },
  {
   "cell_type": "code",
   "execution_count": null,
   "id": "05c916e3",
   "metadata": {},
   "outputs": [],
   "source": []
  }
 ],
 "metadata": {
  "kernelspec": {
   "display_name": "Python 3",
   "language": "python",
   "name": "python3"
  },
  "language_info": {
   "codemirror_mode": {
    "name": "ipython",
    "version": 3
   },
   "file_extension": ".py",
   "mimetype": "text/x-python",
   "name": "python",
   "nbconvert_exporter": "python",
   "pygments_lexer": "ipython3",
   "version": "3.8.8"
  }
 },
 "nbformat": 4,
 "nbformat_minor": 5
}
